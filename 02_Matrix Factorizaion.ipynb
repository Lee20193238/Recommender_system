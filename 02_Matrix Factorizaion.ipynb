{
 "cells": [
  {
   "cell_type": "markdown",
   "id": "cc264ccd",
   "metadata": {},
   "source": [
    "#### Matrix Factorization(MF)"
   ]
  },
  {
   "cell_type": "markdown",
   "id": "52498c21",
   "metadata": {},
   "source": [
    "---------------------"
   ]
  },
  {
   "cell_type": "code",
   "execution_count": 20,
   "id": "a8f1abf9",
   "metadata": {},
   "outputs": [],
   "source": [
    "import numpy as np\n",
    "import pandas as pd\n",
    "\n",
    "\n",
    "# 데이터 불러오기\n",
    "u_cols = ['user_id', 'age', 'sex', 'occupation', 'zip_code']\n",
    "users = pd.read_csv('u.user', sep='|', names=u_cols, encoding='latin-1')\n",
    "i_cols = ['movie_id', 'title', 'release date', 'video release date', 'IMDB URL', 'unknown', \n",
    "          'Action', 'Adventure', 'Animation', 'Children\\'s', 'Comedy', 'Crime', 'Documentary', \n",
    "          'Drama', 'Fantasy', 'Film-Noir', 'Horror', 'Musical', 'Mystery', 'Romance', 'Sci-Fi', \n",
    "          'Thriller', 'War', 'Western']\n",
    "movies = pd.read_csv('u.item', sep='|', names=i_cols, encoding='latin-1')\n",
    "r_cols = ['user_id', 'movie_id', 'rating', 'timestamp']\n",
    "ratings = pd.read_csv('u.data', sep='\\t', names=r_cols, encoding='latin-1')\n",
    "\n",
    "# timestamp 제거 \n",
    "ratings = ratings.drop('timestamp', axis=1)\n",
    "movies = movies[['movie_id', 'title']]"
   ]
  },
  {
   "cell_type": "code",
   "execution_count": 21,
   "id": "9843fc42",
   "metadata": {},
   "outputs": [],
   "source": [
    "# MF class\n",
    "\n",
    "class MF():\n",
    "    def __init__(self, ratings, K, alpha, beta, iterations, verbose=True):\n",
    "        self.R = np.array(ratings)\n",
    "        self.num_users, self.num_items = np.shape(self.R)\n",
    "        self.K = K # 잠재요인(latent factor) 수\n",
    "        self.alpha = alpha # 학습률\n",
    "        self.beta = beta # 정규화 계수\n",
    "        self.iterations = iterations #S zGD 계산 시 반복 횟수\n",
    "        self.verbose = verbose # SGD 중간 학습과정 출력\n",
    "    \n",
    "\n",
    "    # RMSE\n",
    "    def rmse(self):\n",
    "        xs, ys = self.R.nonzero() # 평점이 있는 요소의 인덱스 가져오기\n",
    "        self.predictions = []\n",
    "        self.errors = []\n",
    "        \n",
    "        for x, y in zip(xs, ys):\n",
    "            prediction = self.get_prediction(x, y)\n",
    "            self.predictions.append(prediction)\n",
    "            self.errors.append(self.R[x, y] - prediction) # 실제값-예측값 리스트에 추가\n",
    "        self.predictions = np.array(self.predictions)\n",
    "        self.errors = np.array(self.errors)\n",
    "        return np.sqrt(np.mean(self.errors**2))\n",
    "\n",
    "    def train(self): \n",
    "\n",
    "        self.P = np.random.normal(scale=1./self.K, size=(self.num_users, self.K)) \n",
    "        # 행렬을 평균 0, 표준편차 1/K인 정규분포를 가지는 난수로 초기화\n",
    "        self.Q = np.random.normal(scale=1./self.K, size=(self.num_items, self.K))\n",
    "\n",
    "        # users/items 평가경향을 0으로 초기화\n",
    "        self.b_u = np.zeros(self.num_users)\n",
    "        self.b_d = np.zeros(self.num_items)\n",
    "        self.b = np.mean(self.R[self.R.nonzero()])\n",
    "\n",
    "        # 평점이 있는 요소 인덱스 가져오기\n",
    "        rows, columns = self.R.nonzero()\n",
    "        # SGD 적용대상(평점이 있는 요소 인덱스, 평점)을 리스트로 저장\n",
    "        self.samples = [(i, j, self.R[i,j]) for i, j in zip(rows, columns)]\n",
    "\n",
    "        # SGD를 한 번 실행할 때마다 rmse가 얼마나 개선되는지 기록\n",
    "        training_process = []\n",
    "        for i in range(self.iterations):\n",
    "            np.random.shuffle(self.samples)\n",
    "            self.sgd()\n",
    "            rmse = self.rmse()\n",
    "            training_process.append((i+1, rmse))\n",
    "            if self.verbose:\n",
    "                if (i+1) % 10 == 0:\n",
    "                    print(\"Iteration: %d ; Train RMSE = %.4f \" % (i+1, rmse))\n",
    "        return training_process\n",
    "\n",
    "    # 평점 예측값 구하는 함수\n",
    "    def get_prediction(self, i, j):\n",
    "        prediction = self.b + self.b_u[i] + self.b_d[j] + self.P[i, :].dot(self.Q[j, :].T)\n",
    "        # 사용자i, 아이템j에 대한 평점 예측치\n",
    "        return prediction\n",
    "\n",
    "    # SGD(Stochastic gradient descent) 실행\n",
    "    def sgd(self):\n",
    "        for i, j, r in self.samples:\n",
    "            prediction = self.get_prediction(i, j) # 사용자i, 아이템j에 대한 평점 예측치\n",
    "            e = (r - prediction) # 오차\n",
    "\n",
    "            self.b_u[i] += self.alpha * (e - self.beta * self.b_u[i]) # 사용자 평가경향 업데이트\n",
    "            self.b_d[j] += self.alpha * (e - self.beta * self.b_d[j]) # 아이템 평가경향 업데이트\n",
    "\n",
    "            self.P[i, :] += self.alpha * (e * self.Q[j, :] - self.beta * self.P[i,:]) # P행렬 업데이트\n",
    "            self.Q[j, :] += self.alpha * (e * self.P[i, :] - self.beta * self.Q[j,:]) # Q행렬 업데이트\n"
   ]
  },
  {
   "cell_type": "code",
   "execution_count": 22,
   "id": "fb03cbf3",
   "metadata": {},
   "outputs": [
    {
     "name": "stdout",
     "output_type": "stream",
     "text": [
      "Iteration: 10 ; Train RMSE = 0.9585 \n",
      "Iteration: 20 ; Train RMSE = 0.9373 \n",
      "Iteration: 30 ; Train RMSE = 0.9280 \n",
      "Iteration: 40 ; Train RMSE = 0.9224 \n",
      "Iteration: 50 ; Train RMSE = 0.9183 \n",
      "Iteration: 60 ; Train RMSE = 0.9143 \n",
      "Iteration: 70 ; Train RMSE = 0.9096 \n",
      "Iteration: 80 ; Train RMSE = 0.9031 \n",
      "Iteration: 90 ; Train RMSE = 0.8941 \n",
      "Iteration: 100 ; Train RMSE = 0.8821 \n"
     ]
    }
   ],
   "source": [
    "# 전체 데이터 사용 MF\n",
    "\n",
    "R_temp = ratings.pivot(index = 'user_id', columns = 'movie_id', values = 'rating').fillna(0)\n",
    "mf = MF(R_temp, K = 30, alpha = 0.001, beta = 0.02, iterations = 100, verbose = True)\n",
    "train_process = mf.train()"
   ]
  },
  {
   "cell_type": "markdown",
   "id": "7b978c34",
   "metadata": {},
   "source": [
    "--------------------------"
   ]
  },
  {
   "cell_type": "code",
   "execution_count": null,
   "id": "6aa6ae79",
   "metadata": {},
   "outputs": [],
   "source": [
    "#### train/test set 분리"
   ]
  }
 ],
 "metadata": {
  "kernelspec": {
   "display_name": "Python 3 (ipykernel)",
   "language": "python",
   "name": "python3"
  },
  "language_info": {
   "codemirror_mode": {
    "name": "ipython",
    "version": 3
   },
   "file_extension": ".py",
   "mimetype": "text/x-python",
   "name": "python",
   "nbconvert_exporter": "python",
   "pygments_lexer": "ipython3",
   "version": "3.11.3"
  }
 },
 "nbformat": 4,
 "nbformat_minor": 5
}
